{
 "cells": [
  {
   "cell_type": "code",
   "execution_count": 1,
   "metadata": {},
   "outputs": [],
   "source": [
    "# Linha das informacoes do obito no boletim do governo da pb \n",
    "entrada = \"Mulher, 66 anos, residente em João Pessoa. Hipertensa e portadora de doença renal. Início dos sintomas em 01/07/2020. Foi a óbito em hospital privado no dia 25/07/2020. \""
   ]
  },
  {
   "cell_type": "code",
   "execution_count": 2,
   "metadata": {},
   "outputs": [],
   "source": [
    "# Data em que o boletim foi publicado\n",
    "dataDoBoletim = \"2020-08-02\""
   ]
  },
  {
   "cell_type": "code",
   "execution_count": 3,
   "metadata": {},
   "outputs": [
    {
     "name": "stdout",
     "output_type": "stream",
     "text": [
      "['Mulher', ' 66 anos', ' residente em João Pessoa', ' Hipertensa e portadora de doença renal', ' Início dos sintomas em 01/07/2020', ' Foi a óbito em hospital privado no dia 25/07/2020', ' ']\n"
     ]
    }
   ],
   "source": [
    "# Formatacao da Entrada\n",
    "entradaFormatada = entrada.replace(\".\",\",\")\n",
    "entradaFormatada = entradaFormatada.split(\",\")\n",
    "print(entradaFormatada)"
   ]
  },
  {
   "cell_type": "code",
   "execution_count": 4,
   "metadata": {},
   "outputs": [
    {
     "name": "stdout",
     "output_type": "stream",
     "text": [
      "feminino\n"
     ]
    }
   ],
   "source": [
    "# Sexo\n",
    "sexo = \"\"\n",
    "if(entradaFormatada[0] == \"Homem\"):\n",
    "  sexo = \"masculino\"\n",
    "else:\n",
    "  sexo = \"feminino\"\n",
    "print(sexo)"
   ]
  },
  {
   "cell_type": "code",
   "execution_count": 5,
   "metadata": {},
   "outputs": [
    {
     "name": "stdout",
     "output_type": "stream",
     "text": [
      "66\n"
     ]
    }
   ],
   "source": [
    "# Idade\n",
    "idade = entradaFormatada[1][1:3]\n",
    "print(idade)"
   ]
  },
  {
   "cell_type": "code",
   "execution_count": 6,
   "metadata": {},
   "outputs": [
    {
     "name": "stdout",
     "output_type": "stream",
     "text": [
      "João Pessoa\n"
     ]
    }
   ],
   "source": [
    "# Cidade\n",
    "cidade = entradaFormatada[2][14:]\n",
    "print(cidade)"
   ]
  },
  {
   "cell_type": "code",
   "execution_count": 7,
   "metadata": {},
   "outputs": [
    {
     "name": "stdout",
     "output_type": "stream",
     "text": [
      "JOAO PESSOA\n"
     ]
    }
   ],
   "source": [
    "# Microrregiao\n",
    "\n",
    "microrregiao = \"\"\n",
    "\n",
    "brejoParaibano = [\"Alagoa Grande\",\"Alagoa Nova\",\"Areia\",\"Bananeiras\",\"Borborema\",\"Matinhas\",\"Pilões\",\"Serraria\"]\n",
    "cajazeiras = [\"Bernardino Batista\",\"Bom Jesus\",\"Bonito de Santa Fé\",\"Cachoeira dos Índios\",\"Cajazeiras\",\"Carrapateira\",\"Joca Claudino\",\"Monte Horebe\",\"Poço Dantas\",\"Poço de José de Moura\",\"Santa Helena\",\"São João do Rio do Peixe\",\"São José de Piranhas\",\"Triunfo\",\"Uiraúna\"]\n",
    "campinaGrande = [\"Boa Vista\",\"Campina Grande\",\"Fagundes\",\"Lagoa Seca\",\"Massaranduba\",\"Puxinanã\",\"Queimadas\",\"Serra Redonda\"]\n",
    "caririOcidental = [\"Amparo\",\"Assunção\",\"Camalaú\",\"Congo\",\"Coxixola\",\"Livramento\",\"Monteiro\",\"Ouro Velho\",\"Parari\",\"Prata\",\"São João do Tigre\",\"São José dos Cordeiros\",\"São Sebastião do Umbuzeiro\",\"Serra Branca\",\"Sumé\",\"Taperoá\",\"Zabelê\"]\n",
    "caririOriental = [\"Alcantil\",\"Barra de Santa Rosa\",\"Barra de São Miguel\",\"Boqueirão\",\"Cabaceiras\",\"Caraúbas\",\"Caturité\",\"Gurjão\",\"Riacho de Santo Antônio\",\"Santo André\",\"São Domingos do Cariri\",\"São João do Cariri\"]\n",
    "catoleDoRocha = [\"Belém do Brejo do Cruz\",\"Bom Sucesso\",\"Brejo do Cruz\",\"Brejo dos Santos\",\"Catolé do Rocha\",\"Jericó\",\"Lagoa\",\"Mato Grosso\",\"Riacho dos Cavalos\",\"São Bento\",\"São José do Brejo do Cruz\"]\n",
    "curimatauOcidental = [\"Algodão de Jandaíra\",\"Arara\",\"Barra de Santana\",\"Cuité\",\"Damião\",\"Nova Floresta\",\"Olivedos\",\"Pocinhos\",\"Remígio\",\"Soledade\",\"Sossêgo\"]\n",
    "curimatauOriental = [\"Araruna\",\"Cacimba de Dentro\",\"Casserengue\",\"Dona Inês\",\"Riachão\",\"Solânea\",\"Tacima\"]\n",
    "esperanca = [\"Areial\",\"Esperança\",\"Montadas\",\"São Sebastião de Lagoa de Roça\"]\n",
    "guarabira = [\"Alagoinha\",\"Araçagi\",\"Belém\",\"Caiçara\",\"Cuitegi\",\"Duas Estradas\",\"Guarabira\",\"Lagoa de Dentro\",\"Logradouro\",\"Mulungu\",\"Pilõezinhos\",\"Pirpirituba\",\"Serra da Raiz\",\"Sertãozinho\"]\n",
    "itabaiana = [\"Caldas Brandão\",\"Gurinhém\",\"Ingá\",\"Itabaiana\",\"Itatuba\",\"Juarez Távora\",\"Mogeiro\",\"Riachão do Bacamarte\",\"Salgado de São Félix\"]\n",
    "itaporanga = [\"Boa Ventura\",\"Conceição\",\"Curral Velho\",\"Diamante\",\"Ibiara\",\"Itaporanga\",\"Pedra Branca\",\"Santa Inês\",\"Santana de Mangueira\",\"São José de Caiana\",\"Serra Grande\"]\n",
    "joaoPessoa = [\"Bayeux\",\"Cabedelo\",\"Conde\",\"João Pessoa\",\"Lucena\",\"Santa Rita\"]\n",
    "litoralNorte = [\"Baía da Traição\",\"Capim\",\"Cuité de Mamanguape\",\"Curral de Cima\",\"Itapororoca\",\"Jacaraú\",\"Mamanguape\",\"Marcação\",\"Mataraca\",\"Pedro Régis\",\"Rio Tinto\"]\n",
    "litoralSul = [\"Alhandra\",\"Caaporã\",\"Pedras de Fogo\",\"Pitimbu\"]\n",
    "patos = [\"Areia de Baraúnas\",\"Cacimba de Areia\",\"Mãe d'Água\",\"Passagem\",\"Patos\",\"Quixabá\",\"Santa Teresinha\",\"São José de Espinharas\",\"São José do Bonfim\"]\n",
    "pianco = [\"Aguiar\",\"Catingueira\",\"Coremas\",\"Emas\",\"Igaracy\",\"Nova Olinda\",\"Olho d'Água\",\"Piancó\",\"Santana dos Garrotes\"]\n",
    "sape = [\"Cruz do Espírito Santo\",\"Juripiranga\",\"Mari\",\"Pilar\",\"Riachão do Poço\",\"São José dos Ramos\",\"São Miguel de Taipu\",\"Sapé\",\"Sobrado\"]\n",
    "seridoOcidentalParaibano = [\"Junco do Seridó\",\"Salgadinho\",\"Santa Luzia\",\"São José do Sabugi\",\"São Mamede\",\"Várzea\"]\n",
    "seridoOrientalParaibano = [\"Baraúna\",\"Cubati\",\"Frei Martinho\",\"Juazeirinho\",\"Nova Palmeira\",\"Pedra Lavrada\",\"Picuí\",\"São Vicente do Seridó\",\"Tenório\"]\n",
    "serraDoTeixeira = [\"Água Branca\",\"Cacimbas\",\"Desterro\",\"Imaculada\",\"Juru\",\"Manaíra\",\"Maturéia\",\"Princesa Isabel\",\"São José de Princesa\",\"Tavares\",\"Teixeira\"]\n",
    "sousa = [\"Aparecida\",\"Cajazeirinhas\",\"Condado\",\"Lastro\",\"Malta\",\"Marizópolis\",\"Nazarezinho\",\"Paulista\",\"Pombal\",\"Santa Cruz\",\"São Bentinho\",\"São Domingos de Pombal\",\"São Francisco\",\"São José da Lagoa Tapada\",\"Sousa\",\"Vieirópolis\",\"Vista Serrana\"]\n",
    "umbuzeiro = [\"Aroeiras\",\"Gado Bravo\",\"Natuba\",\"Santa Cecília\",\"Umbuzeiro\"]\n",
    "\n",
    "if(brejoParaibano.__contains__(cidade)):\n",
    "    microrregiao = \"BREJO PARAIBANO\"\n",
    "elif(cajazeiras.__contains__(cidade)):\n",
    "    microrregiao = \"CAJAZEIRAS\"\n",
    "elif(campinaGrande.__contains__(cidade)):\n",
    "    microrregiao = \"CAMPINA GRANDE\"\n",
    "elif(caririOcidental.__contains__(cidade)):\n",
    "    microrregiao = \"CARIRI OCIDENTAL\"\n",
    "elif(caririOriental.__contains__(cidade)):\n",
    "    microrregiao = \"CARIRI ORIENTAL\"\n",
    "elif(catoleDoRocha.__contains__(cidade)):\n",
    "    microrregiao = \"CATOLE DO ROCHA\"\n",
    "elif(curimatauOcidental.__contains__(cidade)):\n",
    "    microrregiao = \"CURIMATAU OCIDENTAL\"\n",
    "elif(curimatauOriental.__contains__(cidade)):\n",
    "    microrregiao = \"CURIMATAU ORIENTAL\"\n",
    "elif(esperanca.__contains__(cidade)):\n",
    "    microrregiao = \"ESPERANCA\"\n",
    "elif(guarabira.__contains__(cidade)):\n",
    "    microrregiao = \"GUARABIRA\"\n",
    "elif(itabaiana.__contains__(cidade)):\n",
    "    microrregiao = \"ITABAIANA\"\n",
    "elif(itaporanga.__contains__(cidade)):\n",
    "    microrregiao = \"ITAPORANGA\"\n",
    "elif(joaoPessoa.__contains__(cidade)):\n",
    "    microrregiao = \"JOAO PESSOA\"\n",
    "elif(litoralSul.__contains__(cidade)):\n",
    "    microrregiao = \"LITORAL SUL\"\n",
    "elif(litoralNorte.__contains__(cidade)):\n",
    "    microrregiao = \"LITORAL NORTE\"\n",
    "elif(patos.__contains__(cidade)):\n",
    "    microrregiao = \"PATOS\"\n",
    "elif(pianco.__contains__(cidade)):\n",
    "    microrregiao = \"PIANCO\"\n",
    "elif(sape.__contains__(cidade)):\n",
    "    microrregiao = \"SAPE\"\n",
    "elif(seridoOcidentalParaibano.__contains__(cidade)):\n",
    "    microrregiao = \"SERIDO OCIDENTAL PARAIBANO\"\n",
    "elif(seridoOrientalParaibano.__contains__(cidade)):\n",
    "    microrregiao = \"SERIDO ORIENTAL PARAIBANO\"\n",
    "elif(serraDoTeixeira.__contains__(cidade)):\n",
    "    microrregiao = \"SERRA DO TEIXEIRA\"\n",
    "elif(sousa.__contains__(cidade)):\n",
    "    microrregiao = \"SOUSA\"\n",
    "else:\n",
    "    microrregiao = \"UMBUZEIRO\"\n",
    "\n",
    "print(microrregiao)"
   ]
  },
  {
   "cell_type": "code",
   "execution_count": 8,
   "metadata": {
    "scrolled": true
   },
   "outputs": [
    {
     "name": "stdout",
     "output_type": "stream",
     "text": [
      "MATA PARAIBANA\n"
     ]
    }
   ],
   "source": [
    "# Mesorregiao\n",
    "\n",
    "mesorregiao = \"\"\n",
    "\n",
    "agresteParaibano = [\"BREJO PARAIBANO\",\"CAMPINA GRANDE\",\"CURIMATAU OCIDENTAL\",\"CURIMATAU ORIENTAL\",\"ESPERANCA\",\"GUARABIRA\",\"ITABAIANA\",\"UMBUZEIRO\"]\n",
    "borborema = [\"CARIRI OCIDENTAL\",\"CARIRI ORIENTAL\",\"SERIDO OCIDENTAL PARAIBANO\",\"SERIDO ORIENTAL PARAIBANO\"]\n",
    "mataParaibana = [\"JOAO PESSOA\",\"LITORAL NORTE\",\"LITORAL SUL\",\"SAPE\"]\n",
    "sertaoParaibano = [\"CAJAZEIRAS\",\"CATOLE DO ROCHA\",\"ITAPORANGA\",\"PATOS\",\"PIANCO\",\"SERRA DO TEIXEIRA\",\"SOUSA\"]\n",
    "\n",
    "if(agresteParaibano.__contains__(microrregiao)):\n",
    "    mesorregiao = \"AGRESTE PARAIBANO\"\n",
    "if(borborema.__contains__(microrregiao)):\n",
    "    mesorregiao = \"BORBOREMA\"\n",
    "if(mataParaibana.__contains__(microrregiao)):\n",
    "    mesorregiao = \"MATA PARAIBANA\"\n",
    "else:\n",
    "    mesorregiao = \"SERTAO PARAIBANO\"\n",
    "    \n",
    "print(mesorregiao)\n"
   ]
  },
  {
   "cell_type": "code",
   "execution_count": 9,
   "metadata": {},
   "outputs": [
    {
     "name": "stdout",
     "output_type": "stream",
     "text": [
      "Hipert\n",
      "Início\n",
      "Foi a \n",
      "\n",
      "posicaoDaInformacao:  4\n",
      "dadosInicioSintomas:   Início dos sintomas em 01/07/2020\n",
      "dadosInicioSintomas:  ['', 'Início', 'dos', 'sintomas', 'em', '01/07/2020']\n",
      "data:  01/07/2020\n",
      "tamanho da data:  10\n",
      "dadosInicioSintomas:  ['', 'Início', 'dos', 'sintomas', 'em', '01/07/2020']\n",
      "dataDoInicioSintomas : 2020-07-01\n"
     ]
    }
   ],
   "source": [
    "# Data do inicio dos sintomas\n",
    "\n",
    "# Verificacao da posicao da informacao da data de inicio dos sintomas na string\n",
    "# Esta verificacao se faz necessaria pois a data de inicio dos sintomas aparecem em 3 locais diferentes na string\n",
    "posicaoDaInformacao = 0\n",
    "dadosInicioSintomas = \"\"\n",
    "\n",
    "if((entradaFormatada[3][1:7] == \"Início\") or (entradaFormatada[3][1:7] == \"Inicio\")):\n",
    "    posicaoDaInformacao = 3\n",
    "    dadosInicioSintomas = entradaFormatada[3]\n",
    "elif((entradaFormatada[4][1:7] == \"Início\") or (entradaFormatada[4][1:7] == \"Inicio\")):\n",
    "    posicaoDaInformacao = 4\n",
    "    dadosInicioSintomas = entradaFormatada[4]\n",
    "elif((entradaFormatada[5][1:7] == \"Início\") or (entradaFormatada[5][1:7] == \"Inicio\")):\n",
    "    posicaoDaInformacao = 5\n",
    "    dadosInicioSintomas = entradaFormatada[5]\n",
    "else:\n",
    "    posicaoDaInformacao = 6\n",
    "    dadosInicioSintomas = entradaFormatada[6]\n",
    "    \n",
    "print(entradaFormatada[3][1:7])\n",
    "print(entradaFormatada[4][1:7])\n",
    "print(entradaFormatada[5][1:7])\n",
    "print(entradaFormatada[6][1:7])\n",
    "\n",
    "print(\"posicaoDaInformacao: \",posicaoDaInformacao)\n",
    "print(\"dadosInicioSintomas: \",dadosInicioSintomas)\n",
    "\n",
    "dadosInicioSintomas = dadosInicioSintomas.split(\" \")\n",
    "\n",
    "print(\"dadosInicioSintomas: \",dadosInicioSintomas)\n",
    "\n",
    "data = dadosInicioSintomas[-1]\n",
    "\n",
    "print(\"data: \",data)\n",
    "print(\"tamanho da data: \",len(data))\n",
    "\n",
    "if(len(data) < 10):\n",
    "    dataDoInicioSintomas = \"2020\"+\"-\"+data[-2:]+\"-\"+data[-6:-3]\n",
    "else:\n",
    "    dataDoInicioSintomas = data[-4:]+\"-\"+data[-7:-5]+\"-\"+data[-10:-8]\n",
    "\n",
    "print(\"dadosInicioSintomas: \",dadosInicioSintomas)\n",
    "print(\"dataDoInicioSintomas :\",dataDoInicioSintomas)"
   ]
  },
  {
   "cell_type": "code",
   "execution_count": 10,
   "metadata": {
    "scrolled": true
   },
   "outputs": [
    {
     "name": "stdout",
     "output_type": "stream",
     "text": [
      "25/07/2020\n",
      "2020-07-25\n"
     ]
    }
   ],
   "source": [
    "# Data do obito\n",
    "\n",
    "if(entrada[-1] == \" \"):\n",
    "    dataDoObito = entrada[-12:-2]\n",
    "elif(entrada[-1] == \".\"):\n",
    "    dataDoObito = entrada[-11:-1]\n",
    "else:\n",
    "    dataDoObito = entrada[-10:]\n",
    "    \n",
    "print(dataDoObito)\n",
    "dia = dataDoObito[0:2]\n",
    "mes = dataDoObito[3:5]\n",
    "ano = dataDoObito[6:]\n",
    "\n",
    "dataDoObito = ano+\"-\"+mes+\"-\"+dia\n",
    "print(dataDoObito)"
   ]
  },
  {
   "cell_type": "code",
   "execution_count": 11,
   "metadata": {},
   "outputs": [
    {
     "name": "stdout",
     "output_type": "stream",
     "text": [
      "['Foi', 'a', 'óbito', 'em', 'hospital', 'privado', 'no', 'dia', '25/07/2020']\n"
     ]
    }
   ],
   "source": [
    "# Local do Obito\n",
    "\n",
    "# Verificacao da posicao da informacao do local do obito na string\n",
    "# Esta verificacao se faz necessaria pois o local do obito aparece em 2 locais diferentes na string\n",
    "posicaoDaInformacao = 0\n",
    "array = \"\"\n",
    "\n",
    "if((entradaFormatada[5][1:4] == \"Foi\")):\n",
    "    posicaoDaInformacao = 5\n",
    "    array = entradaFormatada[5][1:]\n",
    "elif((entradaFormatada[6][1:4] == \"Foi\")):\n",
    "    posicaoDaInformacao = 6\n",
    "    array = entradaFormatada[6][1:]\n",
    "elif((entradaFormatada[7][1:4] == \"Foi\")):\n",
    "    posicaoDaInformacao = 7\n",
    "    array = entradaFormatada[7][1:]\n",
    "else:\n",
    "    posicaoDaInformacao = 8\n",
    "    array = entradaFormatada[8][1:]\n",
    "\n",
    "array = array.split(\" \")\n",
    "print(array)"
   ]
  },
  {
   "cell_type": "code",
   "execution_count": 12,
   "metadata": {},
   "outputs": [
    {
     "name": "stdout",
     "output_type": "stream",
     "text": [
      "hospital privado\n"
     ]
    }
   ],
   "source": [
    "\n",
    "localDoObito = \"\"\n",
    "if(array[4] == \"hospital\"):\n",
    "    localDoObito = array[4]+\" \"+array[5]\n",
    "elif(array[4] == \"Unidade\"):\n",
    "    localDoObito = array[4]+\" \"+array[5]+\" \"+array[6]+\" \"+array[7]\n",
    "else:\n",
    "    localDoObito = \"residência\"\n",
    "\n",
    "print(localDoObito)"
   ]
  },
  {
   "cell_type": "code",
   "execution_count": 13,
   "metadata": {},
   "outputs": [
    {
     "name": "stdout",
     "output_type": "stream",
     "text": [
      "123,feminino,66,João Pessoa,JOAO PESSOA,2020-07-01,,,,2020-07-25,2020-08-02,hospital privado\n"
     ]
    }
   ],
   "source": [
    "# Saida formatada para o CSV\n",
    "idDaLinha = 123\n",
    "\n",
    "saida = str(idDaLinha)+\",\"+sexo+\",\"+idade+\",\"+cidade+\",\"+microrregiao+\",\"+dataDoInicioSintomas+\",,,,\"+dataDoObito+\",\"+dataDoBoletim+\",\"+localDoObito\n",
    "print(saida)"
   ]
  },
  {
   "cell_type": "code",
   "execution_count": null,
   "metadata": {},
   "outputs": [],
   "source": []
  }
 ],
 "metadata": {
  "kernelspec": {
   "display_name": "Python 3",
   "language": "python",
   "name": "python3"
  },
  "language_info": {
   "codemirror_mode": {
    "name": "ipython",
    "version": 3
   },
   "file_extension": ".py",
   "mimetype": "text/x-python",
   "name": "python",
   "nbconvert_exporter": "python",
   "pygments_lexer": "ipython3",
   "version": "3.8.3"
  }
 },
 "nbformat": 4,
 "nbformat_minor": 4
}
